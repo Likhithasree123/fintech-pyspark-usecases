{
 "cells": [
  {
   "cell_type": "code",
   "execution_count": 0,
   "metadata": {
    "application/vnd.databricks.v1+cell": {
     "cellMetadata": {
      "byteLimit": 2048000,
      "rowLimit": 10000
     },
     "inputWidgets": {},
     "nuid": "7775a683-481c-4a65-90f5-a099858708ea",
     "showTitle": false,
     "tableResultSettingsMap": {},
     "title": ""
    }
   },
   "outputs": [
    {
     "data": {
      "text/html": [
       "<style scoped>\n",
       "  .table-result-container {\n",
       "    max-height: 300px;\n",
       "    overflow: auto;\n",
       "  }\n",
       "  table, th, td {\n",
       "    border: 1px solid black;\n",
       "    border-collapse: collapse;\n",
       "  }\n",
       "  th, td {\n",
       "    padding: 5px;\n",
       "  }\n",
       "  th {\n",
       "    text-align: left;\n",
       "  }\n",
       "</style><div class='table-result-container'><table class='table-result'><thead style='background-color: white'><tr><th>Customer_ID</th><th>Transaction_Amount</th><th>Payment_Method</th><th>Transaction_Status</th><th>Transaction_Date</th></tr></thead><tbody><tr><td>CUST1000</td><td>7370</td><td>UPI</td><td>Success</td><td>2023-01-01</td></tr><tr><td>CUST1001</td><td>960</td><td>Net Banking</td><td>Success</td><td>2023-01-02</td></tr><tr><td>CUST1002</td><td>5490</td><td>Credit Card</td><td>Success</td><td>2023-01-03</td></tr><tr><td>CUST1003</td><td>5291</td><td>UPI</td><td>Pending</td><td>2023-01-04</td></tr><tr><td>CUST1004</td><td>5834</td><td>Wallet</td><td>Success</td><td>2023-01-05</td></tr><tr><td>CUST1005</td><td>6365</td><td>Debit Card</td><td>Success</td><td>2023-01-06</td></tr><tr><td>CUST1006</td><td>566</td><td>Net Banking</td><td>Success</td><td>2023-01-07</td></tr><tr><td>CUST1007</td><td>4526</td><td>Debit Card</td><td>Success</td><td>2023-01-08</td></tr><tr><td>CUST1008</td><td>5678</td><td>Debit Card</td><td>Success</td><td>2023-01-09</td></tr><tr><td>CUST1009</td><td>8422</td><td>UPI</td><td>Success</td><td>2023-01-10</td></tr><tr><td>CUST1010</td><td>1785</td><td>Debit Card</td><td>Success</td><td>2023-01-11</td></tr><tr><td>CUST1011</td><td>869</td><td>Wallet</td><td>Success</td><td>2023-01-12</td></tr><tr><td>CUST1012</td><td>7049</td><td>Debit Card</td><td>Success</td><td>2023-01-13</td></tr><tr><td>CUST1013</td><td>2533</td><td>UPI</td><td>Success</td><td>2023-01-14</td></tr><tr><td>CUST1014</td><td>5411</td><td>Wallet</td><td>Success</td><td>2023-01-15</td></tr><tr><td>CUST1015</td><td>5151</td><td>Credit Card</td><td>Success</td><td>2023-01-16</td></tr><tr><td>CUST1016</td><td>6520</td><td>Debit Card</td><td>Failed</td><td>2023-01-17</td></tr><tr><td>CUST1017</td><td>1284</td><td>UPI</td><td>Success</td><td>2023-01-18</td></tr><tr><td>CUST1018</td><td>4655</td><td>Credit Card</td><td>Success</td><td>2023-01-19</td></tr><tr><td>CUST1019</td><td>3485</td><td>Credit Card</td><td>Success</td><td>2023-01-20</td></tr><tr><td>CUST1020</td><td>6496</td><td>Net Banking</td><td>Failed</td><td>2023-01-21</td></tr><tr><td>CUST1021</td><td>8766</td><td>Wallet</td><td>Pending</td><td>2023-01-22</td></tr><tr><td>CUST1022</td><td>9374</td><td>Debit Card</td><td>Success</td><td>2023-01-23</td></tr><tr><td>CUST1023</td><td>2658</td><td>UPI</td><td>Success</td><td>2023-01-24</td></tr><tr><td>CUST1024</td><td>7949</td><td>Net Banking</td><td>Pending</td><td>2023-01-25</td></tr><tr><td>CUST1025</td><td>2147</td><td>Wallet</td><td>Success</td><td>2023-01-26</td></tr><tr><td>CUST1026</td><td>2847</td><td>Net Banking</td><td>Success</td><td>2023-01-27</td></tr><tr><td>CUST1027</td><td>9267</td><td>Wallet</td><td>Success</td><td>2023-01-28</td></tr><tr><td>CUST1028</td><td>289</td><td>Wallet</td><td>Success</td><td>2023-01-29</td></tr><tr><td>CUST1029</td><td>2834</td><td>Debit Card</td><td>Pending</td><td>2023-01-30</td></tr><tr><td>CUST1030</td><td>3105</td><td>Wallet</td><td>Failed</td><td>2023-01-31</td></tr><tr><td>CUST1031</td><td>4758</td><td>Net Banking</td><td>Success</td><td>2023-02-01</td></tr><tr><td>CUST1032</td><td>1999</td><td>Wallet</td><td>Success</td><td>2023-02-02</td></tr><tr><td>CUST1033</td><td>7834</td><td>Debit Card</td><td>Success</td><td>2023-02-03</td></tr><tr><td>CUST1034</td><td>1367</td><td>Debit Card</td><td>Pending</td><td>2023-02-04</td></tr><tr><td>CUST1035</td><td>1628</td><td>Net Banking</td><td>Pending</td><td>2023-02-05</td></tr><tr><td>CUST1036</td><td>3656</td><td>Credit Card</td><td>Pending</td><td>2023-02-06</td></tr><tr><td>CUST1037</td><td>3990</td><td>Credit Card</td><td>Pending</td><td>2023-02-07</td></tr><tr><td>CUST1038</td><td>8938</td><td>Wallet</td><td>Success</td><td>2023-02-08</td></tr><tr><td>CUST1039</td><td>5493</td><td>UPI</td><td>Success</td><td>2023-02-09</td></tr><tr><td>CUST1040</td><td>8892</td><td>Wallet</td><td>Success</td><td>2023-02-10</td></tr><tr><td>CUST1041</td><td>8533</td><td>Net Banking</td><td>Pending</td><td>2023-02-11</td></tr><tr><td>CUST1042</td><td>7613</td><td>Net Banking</td><td>Success</td><td>2023-02-12</td></tr><tr><td>CUST1043</td><td>2712</td><td>Net Banking</td><td>Success</td><td>2023-02-13</td></tr><tr><td>CUST1044</td><td>7141</td><td>Net Banking</td><td>Success</td><td>2023-02-14</td></tr><tr><td>CUST1045</td><td>9655</td><td>Net Banking</td><td>Success</td><td>2023-02-15</td></tr><tr><td>CUST1046</td><td>6335</td><td>Debit Card</td><td>Success</td><td>2023-02-16</td></tr><tr><td>CUST1047</td><td>5586</td><td>Credit Card</td><td>Success</td><td>2023-02-17</td></tr><tr><td>CUST1048</td><td>7199</td><td>Net Banking</td><td>Success</td><td>2023-02-18</td></tr><tr><td>CUST1049</td><td>9770</td><td>UPI</td><td>Success</td><td>2023-02-19</td></tr><tr><td>CUST1050</td><td>875</td><td>UPI</td><td>Success</td><td>2023-02-20</td></tr><tr><td>CUST1051</td><td>8326</td><td>UPI</td><td>Success</td><td>2023-02-21</td></tr><tr><td>CUST1052</td><td>3252</td><td>UPI</td><td>Pending</td><td>2023-02-22</td></tr><tr><td>CUST1053</td><td>1685</td><td>Debit Card</td><td>Success</td><td>2023-02-23</td></tr><tr><td>CUST1054</td><td>4043</td><td>UPI</td><td>Success</td><td>2023-02-24</td></tr><tr><td>CUST1055</td><td>7655</td><td>Net Banking</td><td>Pending</td><td>2023-02-25</td></tr><tr><td>CUST1056</td><td>3173</td><td>Wallet</td><td>Success</td><td>2023-02-26</td></tr><tr><td>CUST1057</td><td>1121</td><td>UPI</td><td>Pending</td><td>2023-02-27</td></tr><tr><td>CUST1058</td><td>3943</td><td>Debit Card</td><td>Success</td><td>2023-02-28</td></tr><tr><td>CUST1059</td><td>8089</td><td>Debit Card</td><td>Success</td><td>2023-03-01</td></tr><tr><td>CUST1060</td><td>9792</td><td>UPI</td><td>Success</td><td>2023-03-02</td></tr><tr><td>CUST1061</td><td>6973</td><td>Wallet</td><td>Success</td><td>2023-03-03</td></tr><tr><td>CUST1062</td><td>5775</td><td>UPI</td><td>Success</td><td>2023-03-04</td></tr><tr><td>CUST1063</td><td>261</td><td>Debit Card</td><td>Success</td><td>2023-03-05</td></tr><tr><td>CUST1064</td><td>4397</td><td>Credit Card</td><td>Failed</td><td>2023-03-06</td></tr><tr><td>CUST1065</td><td>1095</td><td>Net Banking</td><td>Success</td><td>2023-03-07</td></tr><tr><td>CUST1066</td><td>7729</td><td>Debit Card</td><td>Pending</td><td>2023-03-08</td></tr><tr><td>CUST1067</td><td>9567</td><td>UPI</td><td>Success</td><td>2023-03-09</td></tr><tr><td>CUST1068</td><td>1116</td><td>Net Banking</td><td>Pending</td><td>2023-03-10</td></tr><tr><td>CUST1069</td><td>7969</td><td>UPI</td><td>Success</td><td>2023-03-11</td></tr><tr><td>CUST1070</td><td>6539</td><td>UPI</td><td>Success</td><td>2023-03-12</td></tr><tr><td>CUST1071</td><td>7992</td><td>Credit Card</td><td>Success</td><td>2023-03-13</td></tr><tr><td>CUST1072</td><td>6963</td><td>Net Banking</td><td>Success</td><td>2023-03-14</td></tr><tr><td>CUST1073</td><td>8016</td><td>Net Banking</td><td>Pending</td><td>2023-03-15</td></tr><tr><td>CUST1074</td><td>8629</td><td>Credit Card</td><td>Success</td><td>2023-03-16</td></tr><tr><td>CUST1075</td><td>978</td><td>Debit Card</td><td>Success</td><td>2023-03-17</td></tr><tr><td>CUST1076</td><td>9368</td><td>UPI</td><td>Success</td><td>2023-03-18</td></tr><tr><td>CUST1077</td><td>4987</td><td>Wallet</td><td>Success</td><td>2023-03-19</td></tr><tr><td>CUST1078</td><td>4959</td><td>UPI</td><td>Failed</td><td>2023-03-20</td></tr><tr><td>CUST1079</td><td>6431</td><td>UPI</td><td>Failed</td><td>2023-03-21</td></tr><tr><td>CUST1080</td><td>8671</td><td>Debit Card</td><td>Failed</td><td>2023-03-22</td></tr><tr><td>CUST1081</td><td>8784</td><td>UPI</td><td>Success</td><td>2023-03-23</td></tr><tr><td>CUST1082</td><td>7308</td><td>Credit Card</td><td>Success</td><td>2023-03-24</td></tr><tr><td>CUST1083</td><td>5376</td><td>Credit Card</td><td>Failed</td><td>2023-03-25</td></tr><tr><td>CUST1084</td><td>2162</td><td>Net Banking</td><td>Success</td><td>2023-03-26</td></tr><tr><td>CUST1085</td><td>164</td><td>Wallet</td><td>Failed</td><td>2023-03-27</td></tr><tr><td>CUST1086</td><td>8106</td><td>UPI</td><td>Failed</td><td>2023-03-28</td></tr><tr><td>CUST1087</td><td>2668</td><td>UPI</td><td>Pending</td><td>2023-03-29</td></tr><tr><td>CUST1088</td><td>5563</td><td>Debit Card</td><td>Success</td><td>2023-03-30</td></tr><tr><td>CUST1089</td><td>2127</td><td>Credit Card</td><td>Success</td><td>2023-03-31</td></tr><tr><td>CUST1090</td><td>2795</td><td>Wallet</td><td>Pending</td><td>2023-04-01</td></tr><tr><td>CUST1091</td><td>9787</td><td>Net Banking</td><td>Success</td><td>2023-04-02</td></tr><tr><td>CUST1092</td><td>5358</td><td>Credit Card</td><td>Success</td><td>2023-04-03</td></tr><tr><td>CUST1093</td><td>5718</td><td>Net Banking</td><td>Success</td><td>2023-04-04</td></tr><tr><td>CUST1094</td><td>6836</td><td>Debit Card</td><td>Failed</td><td>2023-04-05</td></tr><tr><td>CUST1095</td><td>491</td><td>Debit Card</td><td>Success</td><td>2023-04-06</td></tr><tr><td>CUST1096</td><td>5992</td><td>UPI</td><td>Success</td><td>2023-04-07</td></tr><tr><td>CUST1097</td><td>3661</td><td>Wallet</td><td>Success</td><td>2023-04-08</td></tr><tr><td>CUST1098</td><td>6284</td><td>Net Banking</td><td>Success</td><td>2023-04-09</td></tr><tr><td>CUST1099</td><td>3199</td><td>Credit Card</td><td>Failed</td><td>2023-04-10</td></tr></tbody></table></div>"
      ]
     },
     "metadata": {
      "application/vnd.databricks.v1+output": {
       "addedWidgets": {},
       "aggData": [],
       "aggError": "",
       "aggOverflow": false,
       "aggSchema": [],
       "aggSeriesLimitReached": false,
       "aggType": "",
       "arguments": {},
       "columnCustomDisplayInfos": {},
       "data": [
        [
         "CUST1000",
         7370,
         "UPI",
         "Success",
         "2023-01-01"
        ],
        [
         "CUST1001",
         960,
         "Net Banking",
         "Success",
         "2023-01-02"
        ],
        [
         "CUST1002",
         5490,
         "Credit Card",
         "Success",
         "2023-01-03"
        ],
        [
         "CUST1003",
         5291,
         "UPI",
         "Pending",
         "2023-01-04"
        ],
        [
         "CUST1004",
         5834,
         "Wallet",
         "Success",
         "2023-01-05"
        ],
        [
         "CUST1005",
         6365,
         "Debit Card",
         "Success",
         "2023-01-06"
        ],
        [
         "CUST1006",
         566,
         "Net Banking",
         "Success",
         "2023-01-07"
        ],
        [
         "CUST1007",
         4526,
         "Debit Card",
         "Success",
         "2023-01-08"
        ],
        [
         "CUST1008",
         5678,
         "Debit Card",
         "Success",
         "2023-01-09"
        ],
        [
         "CUST1009",
         8422,
         "UPI",
         "Success",
         "2023-01-10"
        ],
        [
         "CUST1010",
         1785,
         "Debit Card",
         "Success",
         "2023-01-11"
        ],
        [
         "CUST1011",
         869,
         "Wallet",
         "Success",
         "2023-01-12"
        ],
        [
         "CUST1012",
         7049,
         "Debit Card",
         "Success",
         "2023-01-13"
        ],
        [
         "CUST1013",
         2533,
         "UPI",
         "Success",
         "2023-01-14"
        ],
        [
         "CUST1014",
         5411,
         "Wallet",
         "Success",
         "2023-01-15"
        ],
        [
         "CUST1015",
         5151,
         "Credit Card",
         "Success",
         "2023-01-16"
        ],
        [
         "CUST1016",
         6520,
         "Debit Card",
         "Failed",
         "2023-01-17"
        ],
        [
         "CUST1017",
         1284,
         "UPI",
         "Success",
         "2023-01-18"
        ],
        [
         "CUST1018",
         4655,
         "Credit Card",
         "Success",
         "2023-01-19"
        ],
        [
         "CUST1019",
         3485,
         "Credit Card",
         "Success",
         "2023-01-20"
        ],
        [
         "CUST1020",
         6496,
         "Net Banking",
         "Failed",
         "2023-01-21"
        ],
        [
         "CUST1021",
         8766,
         "Wallet",
         "Pending",
         "2023-01-22"
        ],
        [
         "CUST1022",
         9374,
         "Debit Card",
         "Success",
         "2023-01-23"
        ],
        [
         "CUST1023",
         2658,
         "UPI",
         "Success",
         "2023-01-24"
        ],
        [
         "CUST1024",
         7949,
         "Net Banking",
         "Pending",
         "2023-01-25"
        ],
        [
         "CUST1025",
         2147,
         "Wallet",
         "Success",
         "2023-01-26"
        ],
        [
         "CUST1026",
         2847,
         "Net Banking",
         "Success",
         "2023-01-27"
        ],
        [
         "CUST1027",
         9267,
         "Wallet",
         "Success",
         "2023-01-28"
        ],
        [
         "CUST1028",
         289,
         "Wallet",
         "Success",
         "2023-01-29"
        ],
        [
         "CUST1029",
         2834,
         "Debit Card",
         "Pending",
         "2023-01-30"
        ],
        [
         "CUST1030",
         3105,
         "Wallet",
         "Failed",
         "2023-01-31"
        ],
        [
         "CUST1031",
         4758,
         "Net Banking",
         "Success",
         "2023-02-01"
        ],
        [
         "CUST1032",
         1999,
         "Wallet",
         "Success",
         "2023-02-02"
        ],
        [
         "CUST1033",
         7834,
         "Debit Card",
         "Success",
         "2023-02-03"
        ],
        [
         "CUST1034",
         1367,
         "Debit Card",
         "Pending",
         "2023-02-04"
        ],
        [
         "CUST1035",
         1628,
         "Net Banking",
         "Pending",
         "2023-02-05"
        ],
        [
         "CUST1036",
         3656,
         "Credit Card",
         "Pending",
         "2023-02-06"
        ],
        [
         "CUST1037",
         3990,
         "Credit Card",
         "Pending",
         "2023-02-07"
        ],
        [
         "CUST1038",
         8938,
         "Wallet",
         "Success",
         "2023-02-08"
        ],
        [
         "CUST1039",
         5493,
         "UPI",
         "Success",
         "2023-02-09"
        ],
        [
         "CUST1040",
         8892,
         "Wallet",
         "Success",
         "2023-02-10"
        ],
        [
         "CUST1041",
         8533,
         "Net Banking",
         "Pending",
         "2023-02-11"
        ],
        [
         "CUST1042",
         7613,
         "Net Banking",
         "Success",
         "2023-02-12"
        ],
        [
         "CUST1043",
         2712,
         "Net Banking",
         "Success",
         "2023-02-13"
        ],
        [
         "CUST1044",
         7141,
         "Net Banking",
         "Success",
         "2023-02-14"
        ],
        [
         "CUST1045",
         9655,
         "Net Banking",
         "Success",
         "2023-02-15"
        ],
        [
         "CUST1046",
         6335,
         "Debit Card",
         "Success",
         "2023-02-16"
        ],
        [
         "CUST1047",
         5586,
         "Credit Card",
         "Success",
         "2023-02-17"
        ],
        [
         "CUST1048",
         7199,
         "Net Banking",
         "Success",
         "2023-02-18"
        ],
        [
         "CUST1049",
         9770,
         "UPI",
         "Success",
         "2023-02-19"
        ],
        [
         "CUST1050",
         875,
         "UPI",
         "Success",
         "2023-02-20"
        ],
        [
         "CUST1051",
         8326,
         "UPI",
         "Success",
         "2023-02-21"
        ],
        [
         "CUST1052",
         3252,
         "UPI",
         "Pending",
         "2023-02-22"
        ],
        [
         "CUST1053",
         1685,
         "Debit Card",
         "Success",
         "2023-02-23"
        ],
        [
         "CUST1054",
         4043,
         "UPI",
         "Success",
         "2023-02-24"
        ],
        [
         "CUST1055",
         7655,
         "Net Banking",
         "Pending",
         "2023-02-25"
        ],
        [
         "CUST1056",
         3173,
         "Wallet",
         "Success",
         "2023-02-26"
        ],
        [
         "CUST1057",
         1121,
         "UPI",
         "Pending",
         "2023-02-27"
        ],
        [
         "CUST1058",
         3943,
         "Debit Card",
         "Success",
         "2023-02-28"
        ],
        [
         "CUST1059",
         8089,
         "Debit Card",
         "Success",
         "2023-03-01"
        ],
        [
         "CUST1060",
         9792,
         "UPI",
         "Success",
         "2023-03-02"
        ],
        [
         "CUST1061",
         6973,
         "Wallet",
         "Success",
         "2023-03-03"
        ],
        [
         "CUST1062",
         5775,
         "UPI",
         "Success",
         "2023-03-04"
        ],
        [
         "CUST1063",
         261,
         "Debit Card",
         "Success",
         "2023-03-05"
        ],
        [
         "CUST1064",
         4397,
         "Credit Card",
         "Failed",
         "2023-03-06"
        ],
        [
         "CUST1065",
         1095,
         "Net Banking",
         "Success",
         "2023-03-07"
        ],
        [
         "CUST1066",
         7729,
         "Debit Card",
         "Pending",
         "2023-03-08"
        ],
        [
         "CUST1067",
         9567,
         "UPI",
         "Success",
         "2023-03-09"
        ],
        [
         "CUST1068",
         1116,
         "Net Banking",
         "Pending",
         "2023-03-10"
        ],
        [
         "CUST1069",
         7969,
         "UPI",
         "Success",
         "2023-03-11"
        ],
        [
         "CUST1070",
         6539,
         "UPI",
         "Success",
         "2023-03-12"
        ],
        [
         "CUST1071",
         7992,
         "Credit Card",
         "Success",
         "2023-03-13"
        ],
        [
         "CUST1072",
         6963,
         "Net Banking",
         "Success",
         "2023-03-14"
        ],
        [
         "CUST1073",
         8016,
         "Net Banking",
         "Pending",
         "2023-03-15"
        ],
        [
         "CUST1074",
         8629,
         "Credit Card",
         "Success",
         "2023-03-16"
        ],
        [
         "CUST1075",
         978,
         "Debit Card",
         "Success",
         "2023-03-17"
        ],
        [
         "CUST1076",
         9368,
         "UPI",
         "Success",
         "2023-03-18"
        ],
        [
         "CUST1077",
         4987,
         "Wallet",
         "Success",
         "2023-03-19"
        ],
        [
         "CUST1078",
         4959,
         "UPI",
         "Failed",
         "2023-03-20"
        ],
        [
         "CUST1079",
         6431,
         "UPI",
         "Failed",
         "2023-03-21"
        ],
        [
         "CUST1080",
         8671,
         "Debit Card",
         "Failed",
         "2023-03-22"
        ],
        [
         "CUST1081",
         8784,
         "UPI",
         "Success",
         "2023-03-23"
        ],
        [
         "CUST1082",
         7308,
         "Credit Card",
         "Success",
         "2023-03-24"
        ],
        [
         "CUST1083",
         5376,
         "Credit Card",
         "Failed",
         "2023-03-25"
        ],
        [
         "CUST1084",
         2162,
         "Net Banking",
         "Success",
         "2023-03-26"
        ],
        [
         "CUST1085",
         164,
         "Wallet",
         "Failed",
         "2023-03-27"
        ],
        [
         "CUST1086",
         8106,
         "UPI",
         "Failed",
         "2023-03-28"
        ],
        [
         "CUST1087",
         2668,
         "UPI",
         "Pending",
         "2023-03-29"
        ],
        [
         "CUST1088",
         5563,
         "Debit Card",
         "Success",
         "2023-03-30"
        ],
        [
         "CUST1089",
         2127,
         "Credit Card",
         "Success",
         "2023-03-31"
        ],
        [
         "CUST1090",
         2795,
         "Wallet",
         "Pending",
         "2023-04-01"
        ],
        [
         "CUST1091",
         9787,
         "Net Banking",
         "Success",
         "2023-04-02"
        ],
        [
         "CUST1092",
         5358,
         "Credit Card",
         "Success",
         "2023-04-03"
        ],
        [
         "CUST1093",
         5718,
         "Net Banking",
         "Success",
         "2023-04-04"
        ],
        [
         "CUST1094",
         6836,
         "Debit Card",
         "Failed",
         "2023-04-05"
        ],
        [
         "CUST1095",
         491,
         "Debit Card",
         "Success",
         "2023-04-06"
        ],
        [
         "CUST1096",
         5992,
         "UPI",
         "Success",
         "2023-04-07"
        ],
        [
         "CUST1097",
         3661,
         "Wallet",
         "Success",
         "2023-04-08"
        ],
        [
         "CUST1098",
         6284,
         "Net Banking",
         "Success",
         "2023-04-09"
        ],
        [
         "CUST1099",
         3199,
         "Credit Card",
         "Failed",
         "2023-04-10"
        ]
       ],
       "datasetInfos": [],
       "dbfsResultPath": null,
       "isJsonSchema": true,
       "metadata": {},
       "overflow": false,
       "plotOptions": {
        "customPlotOptions": {},
        "displayType": "table",
        "pivotAggregation": null,
        "pivotColumns": null,
        "xColumns": null,
        "yColumns": null
       },
       "removedWidgets": [],
       "schema": [
        {
         "metadata": "{}",
         "name": "Customer_ID",
         "type": "\"string\""
        },
        {
         "metadata": "{}",
         "name": "Transaction_Amount",
         "type": "\"integer\""
        },
        {
         "metadata": "{}",
         "name": "Payment_Method",
         "type": "\"string\""
        },
        {
         "metadata": "{}",
         "name": "Transaction_Status",
         "type": "\"string\""
        },
        {
         "metadata": "{\"__detected_date_formats\": \"d-M-yyyy\"}",
         "name": "Transaction_Date",
         "type": "\"date\""
        }
       ],
       "type": "table"
      }
     },
     "output_type": "display_data"
    }
   ],
   "source": [
    "from pyspark.sql.functions import col, sum, count, max, when, avg, desc, datediff, current_date\n",
    "\n",
    "# Load CSV from Volumes\n",
    "df = spark.read.csv(\n",
    "    \"dbfs:/Volumes/likhitha1/fintech/fintech1/fintech_transactions.csv\",\n",
    "    header=True,\n",
    "    inferSchema=True\n",
    ")\n",
    "\n",
    "display(df)\n"
   ]
  },
  {
   "cell_type": "code",
   "execution_count": 0,
   "metadata": {
    "application/vnd.databricks.v1+cell": {
     "cellMetadata": {
      "byteLimit": 2048000,
      "rowLimit": 10000
     },
     "inputWidgets": {},
     "nuid": "bbccab58-738d-4d99-bbe8-c1919ba36253",
     "showTitle": false,
     "tableResultSettingsMap": {},
     "title": ""
    }
   },
   "outputs": [
    {
     "data": {
      "text/html": [
       "<style scoped>\n",
       "  .table-result-container {\n",
       "    max-height: 300px;\n",
       "    overflow: auto;\n",
       "  }\n",
       "  table, th, td {\n",
       "    border: 1px solid black;\n",
       "    border-collapse: collapse;\n",
       "  }\n",
       "  th, td {\n",
       "    padding: 5px;\n",
       "  }\n",
       "  th {\n",
       "    text-align: left;\n",
       "  }\n",
       "</style><div class='table-result-container'><table class='table-result'><thead style='background-color: white'><tr><th>Total_Transaction_Amount</th></tr></thead><tbody><tr><td>520823</td></tr></tbody></table></div>"
      ]
     },
     "metadata": {
      "application/vnd.databricks.v1+output": {
       "addedWidgets": {},
       "aggData": [],
       "aggError": "",
       "aggOverflow": false,
       "aggSchema": [],
       "aggSeriesLimitReached": false,
       "aggType": "",
       "arguments": {},
       "columnCustomDisplayInfos": {},
       "data": [
        [
         520823
        ]
       ],
       "datasetInfos": [],
       "dbfsResultPath": null,
       "isJsonSchema": true,
       "metadata": {},
       "overflow": false,
       "plotOptions": {
        "customPlotOptions": {},
        "displayType": "table",
        "pivotAggregation": null,
        "pivotColumns": null,
        "xColumns": null,
        "yColumns": null
       },
       "removedWidgets": [],
       "schema": [
        {
         "metadata": "{}",
         "name": "Total_Transaction_Amount",
         "type": "\"long\""
        }
       ],
       "type": "table"
      }
     },
     "output_type": "display_data"
    }
   ],
   "source": [
    "from pyspark.sql.functions import sum\n",
    "\n",
    "# Total of all transactions\n",
    "total_amount = df.agg(sum(\"Transaction_Amount\").alias(\"Total_Transaction_Amount\"))\n",
    "display(total_amount)\n"
   ]
  },
  {
   "cell_type": "code",
   "execution_count": 0,
   "metadata": {
    "application/vnd.databricks.v1+cell": {
     "cellMetadata": {
      "byteLimit": 2048000,
      "rowLimit": 10000
     },
     "inputWidgets": {},
     "nuid": "56bd87f0-6e29-4e8b-ab97-d046b925cdb1",
     "showTitle": false,
     "tableResultSettingsMap": {},
     "title": ""
    }
   },
   "outputs": [
    {
     "name": "stdout",
     "output_type": "stream",
     "text": [
      "+-----------+----------------+---------+--------+-------+\n",
      "|Customer_ID|Last_Transaction|Frequency|Monetary|Recency|\n",
      "+-----------+----------------+---------+--------+-------+\n",
      "|   CUST1093|      2023-04-04|        1|    5718|    897|\n",
      "|   CUST1083|      2023-03-25|        1|    5376|    907|\n",
      "|   CUST1042|      2023-02-12|        1|    7613|    948|\n",
      "|   CUST1016|      2023-01-17|        1|    6520|    974|\n",
      "|   CUST1052|      2023-02-22|        1|    3252|    938|\n",
      "+-----------+----------------+---------+--------+-------+\n",
      "only showing top 5 rows\n"
     ]
    }
   ],
   "source": [
    "# Recency (days since last transaction)\n",
    "rfm = (df.groupBy(\"Customer_ID\")\n",
    "         .agg(\n",
    "             max(\"Transaction_Date\").alias(\"Last_Transaction\"),\n",
    "             count(\"*\").alias(\"Frequency\"),\n",
    "             sum(\"Transaction_Amount\").alias(\"Monetary\")\n",
    "         )\n",
    "         .withColumn(\"Recency\", datediff(current_date(), col(\"Last_Transaction\"))))\n",
    "\n",
    "rfm.show(5)\n"
   ]
  },
  {
   "cell_type": "code",
   "execution_count": 0,
   "metadata": {
    "application/vnd.databricks.v1+cell": {
     "cellMetadata": {
      "byteLimit": 2048000,
      "rowLimit": 10000
     },
     "inputWidgets": {},
     "nuid": "3470b353-d711-4950-a0d0-e1d246b0b0a4",
     "showTitle": false,
     "tableResultSettingsMap": {},
     "title": ""
    }
   },
   "outputs": [
    {
     "name": "stdout",
     "output_type": "stream",
     "text": [
      "Payment Method Distribution:\n",
      "+--------------+-----+\n",
      "|Payment_Method|count|\n",
      "+--------------+-----+\n",
      "|    Debit Card|   21|\n",
      "|   Net Banking|   22|\n",
      "|   Credit Card|   15|\n",
      "|           UPI|   25|\n",
      "|        Wallet|   17|\n",
      "+--------------+-----+\n",
      "\n",
      "Average Spend by Payment Method:\n",
      "+--------------+-----------------+\n",
      "|Payment_Method|       Avg_Amount|\n",
      "+--------------+-----------------+\n",
      "|    Debit Card|4948.238095238095|\n",
      "|   Net Banking|           5311.5|\n",
      "|   Credit Card|5093.266666666666|\n",
      "|           UPI|          5855.52|\n",
      "|        Wallet|4545.294117647059|\n",
      "+--------------+-----------------+\n",
      "\n"
     ]
    }
   ],
   "source": [
    "# Usage count per method\n",
    "method_count = df.groupBy(\"Payment_Method\").count()\n",
    "print(\"Payment Method Distribution:\")\n",
    "method_count.show()\n",
    "\n",
    "# Average transaction per payment method\n",
    "method_avg = df.groupBy(\"Payment_Method\").agg(avg(\"Transaction_Amount\").alias(\"Avg_Amount\"))\n",
    "print(\"Average Spend by Payment Method:\")\n",
    "method_avg.show()\n"
   ]
  },
  {
   "cell_type": "code",
   "execution_count": 0,
   "metadata": {
    "application/vnd.databricks.v1+cell": {
     "cellMetadata": {
      "byteLimit": 2048000,
      "rowLimit": 10000
     },
     "inputWidgets": {},
     "nuid": "16fdc4c4-0b35-413a-80f4-0ba620559eea",
     "showTitle": false,
     "tableResultSettingsMap": {},
     "title": ""
    }
   },
   "outputs": [
    {
     "name": "stdout",
     "output_type": "stream",
     "text": [
      "Daily Revenue Trend:\n",
      "+----------------+-------------+\n",
      "|Transaction_Date|Total_Revenue|\n",
      "+----------------+-------------+\n",
      "|      2023-01-01|         7370|\n",
      "|      2023-01-02|          960|\n",
      "|      2023-01-03|         5490|\n",
      "|      2023-01-04|         5291|\n",
      "|      2023-01-05|         5834|\n",
      "|      2023-01-06|         6365|\n",
      "|      2023-01-07|          566|\n",
      "|      2023-01-08|         4526|\n",
      "|      2023-01-09|         5678|\n",
      "|      2023-01-10|         8422|\n",
      "+----------------+-------------+\n",
      "only showing top 10 rows\n",
      "Monthly Revenue Trend:\n",
      "+----+-----+---------------+\n",
      "|Year|Month|Monthly_Revenue|\n",
      "+----+-----+---------------+\n",
      "|2023|    1|         144976|\n",
      "|2023|    2|         147172|\n",
      "|2023|    3|         178554|\n",
      "|2023|    4|          50121|\n",
      "+----+-----+---------------+\n",
      "\n"
     ]
    }
   ],
   "source": [
    "from pyspark.sql.functions import to_date\n",
    "\n",
    "# Ensure date column is in correct format\n",
    "df = df.withColumn(\"Transaction_Date\", to_date(col(\"Transaction_Date\")))\n",
    "\n",
    "# Daily revenue\n",
    "daily_revenue = (df.groupBy(\"Transaction_Date\")\n",
    "                   .agg(sum(\"Transaction_Amount\").alias(\"Total_Revenue\"))\n",
    "                   .orderBy(\"Transaction_Date\"))\n",
    "print(\"Daily Revenue Trend:\")\n",
    "daily_revenue.show(10)\n",
    "\n",
    "# Monthly revenue\n",
    "from pyspark.sql.functions import month, year\n",
    "\n",
    "monthly_revenue = (df.groupBy(year(\"Transaction_Date\").alias(\"Year\"), month(\"Transaction_Date\").alias(\"Month\"))\n",
    "                     .agg(sum(\"Transaction_Amount\").alias(\"Monthly_Revenue\"))\n",
    "                     .orderBy(\"Year\",\"Month\"))\n",
    "print(\"Monthly Revenue Trend:\")\n",
    "monthly_revenue.show()\n"
   ]
  }
 ],
 "metadata": {
  "application/vnd.databricks.v1+notebook": {
   "computePreferences": null,
   "dashboards": [],
   "environmentMetadata": {
    "base_environment": "",
    "environment_version": "3"
   },
   "inputWidgetPreferences": null,
   "language": "python",
   "notebookMetadata": {
    "pythonIndentUnit": 4
   },
   "notebookName": "Fintech 4 use cases (Likhitha 82)",
   "widgets": {}
  },
  "language_info": {
   "name": "python"
  }
 },
 "nbformat": 4,
 "nbformat_minor": 0
}
